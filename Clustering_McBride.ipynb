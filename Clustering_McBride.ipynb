{
 "cells": [
  {
   "cell_type": "code",
   "execution_count": 2,
   "metadata": {
    "collapsed": false
   },
   "outputs": [
    {
     "name": "stderr",
     "output_type": "stream",
     "text": [
      "/Users/Beth/anaconda/envs/py3k/lib/python3.5/site-packages/gensim-0.13.3-py3.5-macosx-10.6-x86_64.egg/gensim/utils.py:1015: UserWarning: Pattern library is not installed, lemmatization won't be available.\n",
      "  warnings.warn(\"Pattern library is not installed, lemmatization won't be available.\")\n"
     ]
    }
   ],
   "source": [
    "import nltk, re\n",
    "import numpy as np\n",
    "import pandas as pd\n",
    "import gensim\n",
    "from gensim.models import Word2Vec\n",
    "from nltk.data import find\n",
    "from nltk import word_tokenize\n",
    "from nltk.collocations import *\n",
    "from string import punctuation\n",
    "from nltk.corpus import wordnet as wn\n",
    "from nltk.stem import WordNetLemmatizer\n",
    "from collections import defaultdict\n",
    "from nltk.tokenize import regexp_tokenize, wordpunct_tokenize, blankline_tokenize\n",
    "import string\n",
    "from nltk.corpus import stopwords\n",
    "from sklearn.cluster import KMeans\n",
    "from sklearn.externals import joblib\n",
    "from sklearn.feature_extraction.text import TfidfVectorizer\n",
    "from sklearn.metrics.pairwise import cosine_similarity\n",
    "from matplotlib import pyplot as plt\n",
    "import matplotlib as mpl\n",
    "from sklearn.manifold import MDS"
   ]
  },
  {
   "cell_type": "code",
   "execution_count": 2,
   "metadata": {
    "collapsed": false
   },
   "outputs": [],
   "source": [
    "f = open(\"OvensData_sp.txt\") # import text\n",
    "raw = f.read()"
   ]
  },
  {
   "cell_type": "code",
   "execution_count": 14,
   "metadata": {
    "collapsed": true
   },
   "outputs": [],
   "source": [
    "def text_cleaning(data):\n",
    "    new = regexp_tokenize(data, pattern='\\w+|\\$[\\d\\.]+|\\S+')\n",
    "    punctuation = [':', ',', '.', '!', '\\'', '[', ']',')','(','--','-','..','...'] \n",
    "    new = [w for w in new if w not in punctuation] # Remove punctuation\n",
    "    ' '.join(new[0:10])\n",
    "    normalized = [w for w in new if w.lower() not in stopwords.words('english') and w not in string.punctuation]\n",
    "    ' '.join(normalized[0:10]) # Remove stopwords\n",
    "    new2 = []\n",
    "    for word in normalized:\n",
    "        new2.append(word.lower()) # all text is lowercase\n",
    "    return(new2)  "
   ]
  },
  {
   "cell_type": "code",
   "execution_count": 15,
   "metadata": {
    "collapsed": true
   },
   "outputs": [],
   "source": [
    "text_norm = text_cleaning(raw) # normalize raw text"
   ]
  },
  {
   "cell_type": "code",
   "execution_count": 79,
   "metadata": {
    "collapsed": false
   },
   "outputs": [
    {
     "data": {
      "text/plain": [
       "[('heat', 4947),\n",
       " ('car', 2714),\n",
       " ('sun', 2375),\n",
       " ('light', 1784),\n",
       " ('inside', 1665),\n",
       " ('radiation', 1613),\n",
       " ('atmosphere', 1176),\n",
       " ('box', 1169),\n",
       " ('would', 1117),\n",
       " (\"'s\", 1104),\n",
       " ('air', 1104),\n",
       " ('glass', 1081),\n",
       " ('outside', 1055),\n",
       " ('solar', 1014),\n",
       " ('like', 947),\n",
       " ('greenhouse', 939),\n",
       " ('convection', 889),\n",
       " ('earth', 874),\n",
       " ('reflect', 864),\n",
       " ('wide', 847)]"
      ]
     },
     "execution_count": 79,
     "metadata": {},
     "output_type": "execute_result"
    }
   ],
   "source": [
    "from nltk import FreqDist\n",
    "freqdist = FreqDist(text_norm)\n",
    "freqdist.most_common(20)"
   ]
  },
  {
   "cell_type": "markdown",
   "metadata": {},
   "source": [
    "# Word2Vec & WordNet Comparison #"
   ]
  },
  {
   "cell_type": "code",
   "execution_count": 3,
   "metadata": {
    "collapsed": true
   },
   "outputs": [],
   "source": [
    "word2vec_sample = str(find('models/word2vec_sample/pruned.word2vec.txt'))\n",
    "model = gensim.models.Word2Vec.load_word2vec_format(word2vec_sample, binary=False)"
   ]
  },
  {
   "cell_type": "markdown",
   "metadata": {},
   "source": [
    "## Using nouns: heat, sun, light, radiation, atmosphere (from unigrams, above) ##"
   ]
  },
  {
   "cell_type": "markdown",
   "metadata": {},
   "source": [
    "### \"Heat\" ###\n",
    "WordNet was better here, since humidity (especially) doesn't fall in the same group as \"heat\""
   ]
  },
  {
   "cell_type": "code",
   "execution_count": 20,
   "metadata": {
    "collapsed": false
   },
   "outputs": [
    {
     "data": {
      "text/plain": [
       "[('humidity', 0.5952581763267517),\n",
       " ('temperature', 0.5625722408294678),\n",
       " ('temperatures', 0.5457080602645874),\n",
       " ('heating', 0.5286707282066345),\n",
       " ('humid', 0.5064624547958374)]"
      ]
     },
     "execution_count": 20,
     "metadata": {},
     "output_type": "execute_result"
    }
   ],
   "source": [
    "model.most_similar(positive=['heat'], topn = 5) #Word2Vec Output"
   ]
  },
  {
   "cell_type": "code",
   "execution_count": 32,
   "metadata": {
    "collapsed": false
   },
   "outputs": [
    {
     "name": "stdout",
     "output_type": "stream",
     "text": [
      "1: a form of energy that is transferred by a difference in temperature\n",
      "2: the presence of heat\n",
      "3: the sensation caused by heat energy\n"
     ]
    }
   ],
   "source": [
    "wn.synsets('heat') #WordNet output\n",
    "print('1:',wn.synset('heat.n.01').definition())\n",
    "print('2:',wn.synset('hotness.n.01').definition())\n",
    "print('3:',wn.synset('heat.n.03').definition())"
   ]
  },
  {
   "cell_type": "markdown",
   "metadata": {},
   "source": [
    "### \"Sun\" ###\n",
    "Both WordNet and Word2Vec did well here. The Word2Vec most similar words captured a lot of words students use as synonyms for sun."
   ]
  },
  {
   "cell_type": "code",
   "execution_count": 21,
   "metadata": {
    "collapsed": false
   },
   "outputs": [
    {
     "data": {
      "text/plain": [
       "[('sunlight', 0.7269680500030518),\n",
       " ('sunshine', 0.6767958402633667),\n",
       " ('rays', 0.601547360420227),\n",
       " ('sunny', 0.5643970370292664),\n",
       " ('shade', 0.5370141267776489)]"
      ]
     },
     "execution_count": 21,
     "metadata": {},
     "output_type": "execute_result"
    }
   ],
   "source": [
    "model.most_similar(positive=['sun'], topn = 5)"
   ]
  },
  {
   "cell_type": "code",
   "execution_count": 35,
   "metadata": {
    "collapsed": false
   },
   "outputs": [
    {
     "name": "stdout",
     "output_type": "stream",
     "text": [
      "1: the star that is the source of light and heat for the planets in the solar system\n",
      "2: the rays of the sun\n",
      "3: a person considered as a source of warmth or energy or glory etc\n"
     ]
    }
   ],
   "source": [
    "wn.synsets('sun') #WordNet output\n",
    "print('1:',wn.synset('sun.n.01').definition())\n",
    "print('2:',wn.synset('sunlight.n.01').definition())\n",
    "print('3:',wn.synset('sun.n.03').definition())"
   ]
  },
  {
   "cell_type": "markdown",
   "metadata": {},
   "source": [
    "### \"Light\" ###\n",
    "Both WordNet and Word2Vec did pretty well here, but the WordNet definition captures the physics part we were going for"
   ]
  },
  {
   "cell_type": "code",
   "execution_count": 22,
   "metadata": {
    "collapsed": false
   },
   "outputs": [
    {
     "data": {
      "text/plain": [
       "[('lights', 0.5505942106246948),\n",
       " ('illumination', 0.5342713594436646),\n",
       " ('Light', 0.4914782643318176),\n",
       " ('glow', 0.4902392625808716),\n",
       " ('illuminate', 0.49018049240112305)]"
      ]
     },
     "execution_count": 22,
     "metadata": {},
     "output_type": "execute_result"
    }
   ],
   "source": [
    "model.most_similar(positive=['light'], topn = 5)"
   ]
  },
  {
   "cell_type": "code",
   "execution_count": 37,
   "metadata": {
    "collapsed": false
   },
   "outputs": [
    {
     "name": "stdout",
     "output_type": "stream",
     "text": [
      "1: (physics) electromagnetic radiation that can produce a visual sensation\n",
      "2: any device serving as a source of illumination\n",
      "3: a particular perspective or aspect of a situation\n"
     ]
    }
   ],
   "source": [
    "wn.synsets('light') #WordNet output\n",
    "print('1:',wn.synset('light.n.01').definition())\n",
    "print('2:',wn.synset('light.n.02').definition())\n",
    "print('3:',wn.synset('light.n.03').definition())"
   ]
  },
  {
   "cell_type": "markdown",
   "metadata": {},
   "source": [
    "### \"Radiation\" ###\n",
    "Here the WordNet output is most similar to the meaning most student responses use - radiation as a synonym for energy"
   ]
  },
  {
   "cell_type": "code",
   "execution_count": 23,
   "metadata": {
    "collapsed": false
   },
   "outputs": [
    {
     "data": {
      "text/plain": [
       "[('radioactivity', 0.7983198165893555),\n",
       " ('Radiation', 0.7779667973518372),\n",
       " ('radioactive', 0.6833881735801697),\n",
       " ('radiations', 0.6524677276611328),\n",
       " ('iodine', 0.5621435642242432)]"
      ]
     },
     "execution_count": 23,
     "metadata": {},
     "output_type": "execute_result"
    }
   ],
   "source": [
    "model.most_similar(positive=['radiation'], topn = 5)"
   ]
  },
  {
   "cell_type": "code",
   "execution_count": 40,
   "metadata": {
    "collapsed": false
   },
   "outputs": [
    {
     "name": "stdout",
     "output_type": "stream",
     "text": [
      "1: energy that is radiated or transmitted in the form of rays or waves or particles\n",
      "2: the act of spreading outward from a central source\n",
      "3: syndrome resulting from exposure to ionizing radiation (e.g., exposure to radioactive chemicals or to nuclear explosions); low doses cause diarrhea and nausea and vomiting and sometimes loss of hair; greater exposure can cause sterility and cataracts and some forms of cancer and other diseases; severe exposure can cause death within hours\n"
     ]
    }
   ],
   "source": [
    "wn.synsets('radiation') #WordNet output\n",
    "print('1:',wn.synset('radiation.n.01').definition())\n",
    "print('2:',wn.synset('radiation.n.02').definition())\n",
    "print('3:',wn.synset('radiation_sickness.n.01').definition())"
   ]
  },
  {
   "cell_type": "markdown",
   "metadata": {},
   "source": [
    "### \"Atmosphere\" ###\n",
    "Since students were not writing about ambiance, and instead only writing about the atmosphere from a science perspective, WordNet probably worked better here. "
   ]
  },
  {
   "cell_type": "code",
   "execution_count": 24,
   "metadata": {
    "collapsed": false
   },
   "outputs": [
    {
     "data": {
      "text/plain": [
       "[('atmospheres', 0.7033057808876038),\n",
       " ('ambiance', 0.623522937297821),\n",
       " ('environment', 0.5103297233581543),\n",
       " ('atmospheric', 0.48651421070098877),\n",
       " ('aura', 0.4704725444316864)]"
      ]
     },
     "execution_count": 24,
     "metadata": {},
     "output_type": "execute_result"
    }
   ],
   "source": [
    "model.most_similar(positive=['atmosphere'], topn = 5)"
   ]
  },
  {
   "cell_type": "code",
   "execution_count": 42,
   "metadata": {
    "collapsed": false
   },
   "outputs": [
    {
     "name": "stdout",
     "output_type": "stream",
     "text": [
      "1: a particular environment or surrounding influence\n",
      "2: a unit of pressure: the pressure that will support a column of mercury 760 mm high at sea level and 0 degrees centigrade\n",
      "3: the mass of air surrounding the Earth\n"
     ]
    }
   ],
   "source": [
    "wn.synsets('atmosphere') #WordNet output\n",
    "print('1:',wn.synset('atmosphere.n.01').definition())\n",
    "print('2:',wn.synset('standard_atmosphere.n.01').definition())\n",
    "print('3:',wn.synset('atmosphere.n.03').definition())"
   ]
  },
  {
   "cell_type": "markdown",
   "metadata": {},
   "source": [
    "## Using Verbs: claim, reflect, get, think, absorb ##\n",
    "\n",
    "Here there was some stronger differences between WordNet and Word2Vec. WordNet often gave nouns as the top related word. However, Word2Vec didn't often give actual synonyms, instead giving other forms of the same verb. Overall, it seems that Word2Vec worked better with verbs."
   ]
  },
  {
   "cell_type": "markdown",
   "metadata": {},
   "source": [
    "### \"Claim\"###"
   ]
  },
  {
   "cell_type": "code",
   "execution_count": 49,
   "metadata": {
    "collapsed": false
   },
   "outputs": [
    {
     "data": {
      "text/plain": [
       "[('claims', 0.7393444776535034),\n",
       " ('claiming', 0.6842917203903198),\n",
       " ('claimed', 0.6302383542060852),\n",
       " ('assertion', 0.5973958373069763),\n",
       " ('Claim', 0.5837839841842651)]"
      ]
     },
     "execution_count": 49,
     "metadata": {},
     "output_type": "execute_result"
    }
   ],
   "source": [
    "model.most_similar(positive=['claim'], topn = 5)"
   ]
  },
  {
   "cell_type": "code",
   "execution_count": 51,
   "metadata": {
    "collapsed": false
   },
   "outputs": [
    {
     "name": "stdout",
     "output_type": "stream",
     "text": [
      "1: an assertion of a right (as to money or property)\n",
      "2: an assertion that something is true or factual\n",
      "3: demand for something as rightful or due\n"
     ]
    }
   ],
   "source": [
    "wn.synsets('claim') #WordNet output\n",
    "print('1:',wn.synset('claim.n.01').definition())\n",
    "print('2:',wn.synset('claim.n.02').definition())\n",
    "print('3:',wn.synset('claim.n.03').definition())"
   ]
  },
  {
   "cell_type": "markdown",
   "metadata": {},
   "source": [
    "### \"Reflect\" ###"
   ]
  },
  {
   "cell_type": "code",
   "execution_count": 52,
   "metadata": {
    "collapsed": false
   },
   "outputs": [
    {
     "data": {
      "text/plain": [
       "[('reflected', 0.7501716613769531),\n",
       " ('reflects', 0.6908378005027771),\n",
       " ('reflecting', 0.6745986342430115),\n",
       " ('reflection', 0.5960354804992676),\n",
       " ('reflective', 0.5531980991363525)]"
      ]
     },
     "execution_count": 52,
     "metadata": {},
     "output_type": "execute_result"
    }
   ],
   "source": [
    "model.most_similar(positive=['reflect'], topn = 5)"
   ]
  },
  {
   "cell_type": "code",
   "execution_count": 54,
   "metadata": {
    "collapsed": false
   },
   "outputs": [
    {
     "name": "stdout",
     "output_type": "stream",
     "text": [
      "1: manifest or bring back\n",
      "2: reflect deeply on a subject\n",
      "3: to throw or bend back (from a surface)\n"
     ]
    }
   ],
   "source": [
    "wn.synsets('reflect') #WordNet output\n",
    "print('1:',wn.synset('reflect.v.01').definition())\n",
    "print('2:',wn.synset('chew_over.v.01').definition())\n",
    "print('3:',wn.synset('reflect.v.03').definition())"
   ]
  },
  {
   "cell_type": "markdown",
   "metadata": {},
   "source": [
    "### \"Get\" ###"
   ]
  },
  {
   "cell_type": "code",
   "execution_count": 55,
   "metadata": {
    "collapsed": false
   },
   "outputs": [
    {
     "data": {
      "text/plain": [
       "[('getting', 0.7506692409515381),\n",
       " ('got', 0.7244825959205627),\n",
       " ('gets', 0.642885684967041),\n",
       " ('gotten', 0.6259446740150452),\n",
       " ('Getting', 0.6206594109535217)]"
      ]
     },
     "execution_count": 55,
     "metadata": {},
     "output_type": "execute_result"
    }
   ],
   "source": [
    "model.most_similar(positive=['get'], topn = 5)"
   ]
  },
  {
   "cell_type": "code",
   "execution_count": 58,
   "metadata": {
    "collapsed": false
   },
   "outputs": [
    {
     "name": "stdout",
     "output_type": "stream",
     "text": [
      "1: a return on a shot that seemed impossible to reach and would normally have resulted in a point for the opponent\n",
      "2: come into the possession of something concrete or abstract\n",
      "3: enter or assume a certain state or condition\n"
     ]
    }
   ],
   "source": [
    "wn.synsets('get') #WordNet output\n",
    "print('1:',wn.synset('get.n.01').definition())\n",
    "print('2:',wn.synset('get.v.01').definition())\n",
    "print('3:',wn.synset('become.v.01').definition())"
   ]
  },
  {
   "cell_type": "markdown",
   "metadata": {},
   "source": [
    "### \"Think\" ###"
   ]
  },
  {
   "cell_type": "code",
   "execution_count": 60,
   "metadata": {
    "collapsed": false
   },
   "outputs": [
    {
     "data": {
      "text/plain": [
       "[('know', 0.7344212532043457),\n",
       " ('guess', 0.7197477221488953),\n",
       " ('suppose', 0.7155848741531372),\n",
       " ('really', 0.7071927785873413),\n",
       " ('thought', 0.6869825720787048)]"
      ]
     },
     "execution_count": 60,
     "metadata": {},
     "output_type": "execute_result"
    }
   ],
   "source": [
    "model.most_similar(positive=['think'], topn = 5)"
   ]
  },
  {
   "cell_type": "code",
   "execution_count": 62,
   "metadata": {
    "collapsed": false
   },
   "outputs": [
    {
     "name": "stdout",
     "output_type": "stream",
     "text": [
      "1: an instance of deliberate thinking\n",
      "2: judge or regard; look upon; judge\n",
      "3: expect, believe, or suppose\n"
     ]
    }
   ],
   "source": [
    "wn.synsets('think') #WordNet output\n",
    "print('1:',wn.synset('think.n.01').definition())\n",
    "print('2:',wn.synset('think.v.01').definition())\n",
    "print('3:',wn.synset('think.v.02').definition())"
   ]
  },
  {
   "cell_type": "markdown",
   "metadata": {},
   "source": [
    "### \"Absorb\" ###"
   ]
  },
  {
   "cell_type": "code",
   "execution_count": 63,
   "metadata": {
    "collapsed": false
   },
   "outputs": [
    {
     "data": {
      "text/plain": [
       "[('absorbed', 0.6968178153038025),\n",
       " ('absorbs', 0.6618795394897461),\n",
       " ('absorbing', 0.6391947269439697),\n",
       " ('compensate', 0.49938833713531494),\n",
       " ('soak', 0.49513673782348633)]"
      ]
     },
     "execution_count": 63,
     "metadata": {},
     "output_type": "execute_result"
    }
   ],
   "source": [
    "model.most_similar(positive=['absorb'], topn = 5)"
   ]
  },
  {
   "cell_type": "code",
   "execution_count": 65,
   "metadata": {
    "collapsed": false
   },
   "outputs": [
    {
     "name": "stdout",
     "output_type": "stream",
     "text": [
      "1: become imbued\n",
      "2: take up mentally\n",
      "3: take up, as of debts or payments\n"
     ]
    }
   ],
   "source": [
    "wn.synsets('absorb') #WordNet output\n",
    "print('1:',wn.synset('absorb.v.01').definition())\n",
    "print('2:',wn.synset('absorb.v.02').definition())\n",
    "print('3:',wn.synset('absorb.v.03').definition())"
   ]
  },
  {
   "cell_type": "markdown",
   "metadata": {},
   "source": [
    "## Using Adjectives: skinny, tall, dark, cold, shiny ##\n",
    "These words seem to only work okay in both Word2Vec and WordNet. In WordNet some words have all of the top synsets  listed as nouns. However, there are some cases, like \"skinny\" where Word2Vec also lists most common words as something like \"blonde\". "
   ]
  },
  {
   "cell_type": "markdown",
   "metadata": {},
   "source": [
    "### \"Skinny\" ###"
   ]
  },
  {
   "cell_type": "code",
   "execution_count": 72,
   "metadata": {
    "collapsed": false
   },
   "outputs": [
    {
     "data": {
      "text/plain": [
       "[('chubby', 0.6833444237709045),\n",
       " ('scrawny', 0.636683464050293),\n",
       " ('blond', 0.5859364867210388),\n",
       " ('slender', 0.5813267230987549),\n",
       " ('svelte', 0.5721723437309265)]"
      ]
     },
     "execution_count": 72,
     "metadata": {},
     "output_type": "execute_result"
    }
   ],
   "source": [
    "model.most_similar(positive=['skinny'], topn = 5)"
   ]
  },
  {
   "cell_type": "code",
   "execution_count": 71,
   "metadata": {
    "collapsed": false
   },
   "outputs": [
    {
     "name": "stdout",
     "output_type": "stream",
     "text": [
      "1: confidential information about a topic or person\n",
      "2: being very thin\n",
      "3: of or relating to or resembling skin\n"
     ]
    }
   ],
   "source": [
    "wn.synsets('skinny') #WordNet output\n",
    "print('1:',wn.synset('skinny.n.01').definition())\n",
    "print('2:',wn.synset('scraggy.s.01').definition())\n",
    "print('3:',wn.synset('skinny.a.02').definition())"
   ]
  },
  {
   "cell_type": "markdown",
   "metadata": {},
   "source": [
    "### \"Tall\" ###"
   ]
  },
  {
   "cell_type": "code",
   "execution_count": 73,
   "metadata": {
    "collapsed": false
   },
   "outputs": [
    {
     "data": {
      "text/plain": [
       "[('taller', 0.6896722316741943),\n",
       " ('Tall', 0.6415977478027344),\n",
       " ('towering', 0.5926452875137329),\n",
       " ('lanky', 0.580865740776062),\n",
       " ('wiry', 0.5671008229255676)]"
      ]
     },
     "execution_count": 73,
     "metadata": {},
     "output_type": "execute_result"
    }
   ],
   "source": [
    "model.most_similar(positive=['tall'], topn = 5)"
   ]
  },
  {
   "cell_type": "code",
   "execution_count": 74,
   "metadata": {
    "collapsed": false
   },
   "outputs": [
    {
     "name": "stdout",
     "output_type": "stream",
     "text": [
      "1: a garment size for a tall person\n",
      "2: great in vertical dimension; high in stature\n",
      "3: lofty in style\n"
     ]
    }
   ],
   "source": [
    "wn.synsets('tall') #WordNet output\n",
    "print('1:',wn.synset('tall.n.01').definition())\n",
    "print('2:',wn.synset('tall.a.01').definition())\n",
    "print('3:',wn.synset('grandiloquent.s.01').definition())"
   ]
  },
  {
   "cell_type": "markdown",
   "metadata": {},
   "source": [
    "### \"Dark\" ###"
   ]
  },
  {
   "cell_type": "code",
   "execution_count": 75,
   "metadata": {
    "collapsed": false
   },
   "outputs": [
    {
     "data": {
      "text/plain": [
       "[('darkened', 0.6051950454711914),\n",
       " ('darker', 0.596818745136261),\n",
       " ('gray', 0.5935566425323486),\n",
       " ('darkness', 0.5614001750946045),\n",
       " ('darkest', 0.5517755746841431)]"
      ]
     },
     "execution_count": 75,
     "metadata": {},
     "output_type": "execute_result"
    }
   ],
   "source": [
    "model.most_similar(positive=['dark'], topn = 5)"
   ]
  },
  {
   "cell_type": "code",
   "execution_count": 83,
   "metadata": {
    "collapsed": false
   },
   "outputs": [
    {
     "name": "stdout",
     "output_type": "stream",
     "text": [
      "1: absence of light or illumination\n",
      "2: absence of moral or spiritual values\n",
      "3: an unilluminated area\n"
     ]
    }
   ],
   "source": [
    "wn.synsets('dark') #WordNet output\n",
    "print('1:',wn.synset('dark.n.01').definition())\n",
    "print('2:',wn.synset('iniquity.n.01').definition())\n",
    "print('3:',wn.synset('darkness.n.02').definition())"
   ]
  },
  {
   "cell_type": "markdown",
   "metadata": {},
   "source": [
    "### \"Cold\" ###"
   ]
  },
  {
   "cell_type": "code",
   "execution_count": 76,
   "metadata": {
    "collapsed": false
   },
   "outputs": [
    {
     "data": {
      "text/plain": [
       "[('chilly', 0.6878556609153748),\n",
       " ('frigid', 0.677040696144104),\n",
       " ('Cold', 0.6727538108825684),\n",
       " ('chill', 0.6324008107185364),\n",
       " ('warm', 0.595303475856781)]"
      ]
     },
     "execution_count": 76,
     "metadata": {},
     "output_type": "execute_result"
    }
   ],
   "source": [
    "model.most_similar(positive=['cold'], topn = 5)"
   ]
  },
  {
   "cell_type": "code",
   "execution_count": 85,
   "metadata": {
    "collapsed": false
   },
   "outputs": [
    {
     "name": "stdout",
     "output_type": "stream",
     "text": [
      "1: a mild viral infection involving the nose and respiratory passages (but not the lungs)\n",
      "2: the absence of heat\n",
      "3: the sensation produced by low temperatures\n"
     ]
    }
   ],
   "source": [
    "wn.synsets('cold') #WordNet output\n",
    "print('1:',wn.synset('cold.n.01').definition())\n",
    "print('2:',wn.synset('coldness.n.03').definition())\n",
    "print('3:',wn.synset('cold.n.03').definition())"
   ]
  },
  {
   "cell_type": "markdown",
   "metadata": {},
   "source": [
    "### \"Shiny\" ###"
   ]
  },
  {
   "cell_type": "code",
   "execution_count": 80,
   "metadata": {
    "collapsed": false
   },
   "outputs": [
    {
     "data": {
      "text/plain": [
       "[('gleaming', 0.6916888952255249),\n",
       " ('snazzy', 0.6205712556838989),\n",
       " ('glistening', 0.6141441464424133),\n",
       " ('sleek', 0.6051310896873474),\n",
       " ('silvery', 0.5718910694122314)]"
      ]
     },
     "execution_count": 80,
     "metadata": {},
     "output_type": "execute_result"
    }
   ],
   "source": [
    "model.most_similar(positive=['shiny'], topn = 5)"
   ]
  },
  {
   "cell_type": "code",
   "execution_count": 87,
   "metadata": {
    "collapsed": false
   },
   "outputs": [
    {
     "name": "stdout",
     "output_type": "stream",
     "text": [
      "1: reflecting light\n",
      "2: having a shiny surface or coating\n",
      "3: made smooth and bright by or as if by rubbing; reflecting a sheen or glow\n"
     ]
    }
   ],
   "source": [
    "wn.synsets('shiny') #WordNet output\n",
    "print('1:',wn.synset('glistening.s.01').definition())\n",
    "print('2:',wn.synset('glazed.a.03').definition())\n",
    "print('3:',wn.synset('bright.s.05').definition())"
   ]
  },
  {
   "cell_type": "markdown",
   "metadata": {},
   "source": [
    "# K-Means #"
   ]
  },
  {
   "cell_type": "code",
   "execution_count": 16,
   "metadata": {
    "collapsed": false
   },
   "outputs": [
    {
     "data": {
      "text/html": [
       "<div>\n",
       "<table border=\"1\" class=\"dataframe\">\n",
       "  <thead>\n",
       "    <tr style=\"text-align: right;\">\n",
       "      <th></th>\n",
       "      <th>Text</th>\n",
       "      <th>Score</th>\n",
       "      <th>QuestionType</th>\n",
       "      <th>new_Score</th>\n",
       "      <th>new_Score2</th>\n",
       "    </tr>\n",
       "  </thead>\n",
       "  <tbody>\n",
       "    <tr>\n",
       "      <th>0</th>\n",
       "      <td>if we angel the tin foil toward the plastic wr...</td>\n",
       "      <td>4</td>\n",
       "      <td>1</td>\n",
       "      <td>4</td>\n",
       "      <td>3</td>\n",
       "    </tr>\n",
       "    <tr>\n",
       "      <th>1</th>\n",
       "      <td>Because... black absorbs heat and that ill giv...</td>\n",
       "      <td>7</td>\n",
       "      <td>1</td>\n",
       "      <td>4</td>\n",
       "      <td>3</td>\n",
       "    </tr>\n",
       "    <tr>\n",
       "      <th>2</th>\n",
       "      <td>Because...it lets more ssolar radiation.\\n\\nTh...</td>\n",
       "      <td>3</td>\n",
       "      <td>1</td>\n",
       "      <td>3</td>\n",
       "      <td>2</td>\n",
       "    </tr>\n",
       "    <tr>\n",
       "      <th>3</th>\n",
       "      <td>The changes we would make are take out the ple...</td>\n",
       "      <td>2</td>\n",
       "      <td>1</td>\n",
       "      <td>2</td>\n",
       "      <td>2</td>\n",
       "    </tr>\n",
       "    <tr>\n",
       "      <th>4</th>\n",
       "      <td>Because... They used the plexiglass\\n\\nWe said...</td>\n",
       "      <td>2</td>\n",
       "      <td>1</td>\n",
       "      <td>2</td>\n",
       "      <td>2</td>\n",
       "    </tr>\n",
       "  </tbody>\n",
       "</table>\n",
       "</div>"
      ],
      "text/plain": [
       "                                                Text  Score  QuestionType  \\\n",
       "0  if we angel the tin foil toward the plastic wr...      4             1   \n",
       "1  Because... black absorbs heat and that ill giv...      7             1   \n",
       "2  Because...it lets more ssolar radiation.\\n\\nTh...      3             1   \n",
       "3  The changes we would make are take out the ple...      2             1   \n",
       "4  Because... They used the plexiglass\\n\\nWe said...      2             1   \n",
       "\n",
       "   new_Score  new_Score2  \n",
       "0          4           3  \n",
       "1          4           3  \n",
       "2          3           2  \n",
       "3          2           2  \n",
       "4          2           2  "
      ]
     },
     "execution_count": 16,
     "metadata": {},
     "output_type": "execute_result"
    }
   ],
   "source": [
    "c = pd.read_excel(\"EmbeddedOvens.xls\")\n",
    "c.head()\n",
    "c['Text'] = c['Text'].astype('U')\n",
    "c['Score'] = c['Score'].astype(np.int32)\n",
    "c = c.loc[c['Score'] > 1]\n",
    "text = c['Text'].tolist()\n",
    "c.head()\n",
    "# This data comes from students responses to one question about how solar radiation is tranformed into heat"
   ]
  },
  {
   "cell_type": "code",
   "execution_count": 17,
   "metadata": {
    "collapsed": false
   },
   "outputs": [
    {
     "data": {
      "text/plain": [
       "978"
      ]
     },
     "execution_count": 17,
     "metadata": {},
     "output_type": "execute_result"
    }
   ],
   "source": [
    "# Check the length of the list\n",
    "len(text)"
   ]
  },
  {
   "cell_type": "code",
   "execution_count": 18,
   "metadata": {
    "collapsed": true
   },
   "outputs": [],
   "source": [
    "# The following method and code is adapted from Brandon Rose's \"Document Clustering with Python\"\n",
    "\n",
    "# load nltk's SnowballStemmer as variabled 'stemmer'\n",
    "from nltk.stem.snowball import SnowballStemmer\n",
    "stemmer = SnowballStemmer(\"english\")\n",
    "\n",
    "def tokenize_and_stem(text):\n",
    "    # first tokenize by sentence, then by word to ensure that punctuation is caught as it's own token\n",
    "    tokens = [word for sent in nltk.sent_tokenize(text) for word in nltk.word_tokenize(sent)]\n",
    "    filtered_tokens = []\n",
    "    # filter out any tokens not containing letters (e.g., numeric tokens, raw punctuation)\n",
    "    for token in tokens:\n",
    "        if re.search('[a-zA-Z]', token):\n",
    "            filtered_tokens.append(token)\n",
    "    stems = [stemmer.stem(t) for t in filtered_tokens]\n",
    "    return stems\n",
    "\n",
    "\n",
    "def tokenize_only(text):\n",
    "    # first tokenize by sentence, then by word to ensure that punctuation is caught as it's own token\n",
    "    tokens = [word.lower() for sent in nltk.sent_tokenize(text) for word in nltk.word_tokenize(sent)]\n",
    "    filtered_tokens = []\n",
    "    # filter out any tokens not containing letters (e.g., numeric tokens, raw punctuation)\n",
    "    for token in tokens:\n",
    "        if re.search('[a-zA-Z]', token):\n",
    "            filtered_tokens.append(token)\n",
    "    return filtered_tokens"
   ]
  },
  {
   "cell_type": "code",
   "execution_count": 19,
   "metadata": {
    "collapsed": false
   },
   "outputs": [],
   "source": [
    "#use extend so it's a big flat list of vocab\n",
    "totalvocab_stemmed = []\n",
    "totalvocab_tokenized = []\n",
    "for i in text:\n",
    "    allwords_stemmed = tokenize_and_stem(i) #for each item in 'synopses', tokenize/stem\n",
    "    totalvocab_stemmed.extend(allwords_stemmed) #extend the 'totalvocab_stemmed' list\n",
    "    \n",
    "    allwords_tokenized = tokenize_only(i)\n",
    "    totalvocab_tokenized.extend(allwords_tokenized)"
   ]
  },
  {
   "cell_type": "code",
   "execution_count": 20,
   "metadata": {
    "collapsed": false
   },
   "outputs": [
    {
     "name": "stdout",
     "output_type": "stream",
     "text": [
      "there are 27860 items in vocab_frame\n"
     ]
    }
   ],
   "source": [
    "vocab_frame = pd.DataFrame({'words': totalvocab_tokenized}, index = totalvocab_stemmed)\n",
    "print('there are ' + str(vocab_frame.shape[0]) + ' items in vocab_frame')"
   ]
  },
  {
   "cell_type": "code",
   "execution_count": 21,
   "metadata": {
    "collapsed": false
   },
   "outputs": [
    {
     "name": "stdout",
     "output_type": "stream",
     "text": [
      "CPU times: user 893 ms, sys: 4.88 ms, total: 898 ms\n",
      "Wall time: 899 ms\n",
      "(978, 21)\n"
     ]
    }
   ],
   "source": [
    "from sklearn.feature_extraction.text import TfidfVectorizer\n",
    "\n",
    "#define vectorizer parameters\n",
    "tfidf_vectorizer = TfidfVectorizer(max_df=0.8, max_features=200000,\n",
    "                                 min_df=0.2, stop_words='english',\n",
    "                                 use_idf=True, tokenizer=tokenize_and_stem, ngram_range=(1,3))\n",
    "\n",
    "%time tfidf_matrix = tfidf_vectorizer.fit_transform(text) #fit the vectorizer to text\n",
    "\n",
    "print(tfidf_matrix.shape)"
   ]
  },
  {
   "cell_type": "code",
   "execution_count": 22,
   "metadata": {
    "collapsed": true
   },
   "outputs": [],
   "source": [
    "terms = tfidf_vectorizer.get_feature_names()"
   ]
  },
  {
   "cell_type": "code",
   "execution_count": 23,
   "metadata": {
    "collapsed": false
   },
   "outputs": [],
   "source": [
    "from sklearn.metrics.pairwise import cosine_similarity\n",
    "dist = 1 - cosine_similarity(tfidf_matrix)"
   ]
  },
  {
   "cell_type": "code",
   "execution_count": 27,
   "metadata": {
    "collapsed": false
   },
   "outputs": [
    {
     "name": "stdout",
     "output_type": "stream",
     "text": [
      "CPU times: user 612 ms, sys: 3.43 ms, total: 616 ms\n",
      "Wall time: 618 ms\n"
     ]
    }
   ],
   "source": [
    "from sklearn.cluster import KMeans\n",
    "\n",
    "num_clusters = 7 # Same number of clusters as number of scored categories is 5\n",
    "\n",
    "km = KMeans(n_clusters=num_clusters)\n",
    "\n",
    "%time km.fit(tfidf_matrix)\n",
    "\n",
    "clusters = km.labels_.tolist()"
   ]
  },
  {
   "cell_type": "code",
   "execution_count": 28,
   "metadata": {
    "collapsed": false
   },
   "outputs": [],
   "source": [
    "from sklearn.externals import joblib\n",
    "\n",
    "#uncomment the below to save your model \n",
    "#since I've already run my model I am loading from the pickle\n",
    "\n",
    "joblib.dump(km,  'doc_cluster.pkl')\n",
    "\n",
    "km = joblib.load('doc_cluster.pkl')\n",
    "clusters = km.labels_.tolist()"
   ]
  },
  {
   "cell_type": "code",
   "execution_count": 29,
   "metadata": {
    "collapsed": false
   },
   "outputs": [],
   "source": [
    "both = { 'sent': text, 'cluster': clusters}\n",
    "\n",
    "frame = pd.DataFrame(both, index = [clusters] , columns = ['cluster'])"
   ]
  },
  {
   "cell_type": "code",
   "execution_count": 30,
   "metadata": {
    "collapsed": false
   },
   "outputs": [
    {
     "data": {
      "text/plain": [
       "2    176\n",
       "1    166\n",
       "6    159\n",
       "3    153\n",
       "4    139\n",
       "5    123\n",
       "0     62\n",
       "Name: cluster, dtype: int64"
      ]
     },
     "execution_count": 30,
     "metadata": {},
     "output_type": "execute_result"
    }
   ],
   "source": [
    "frame['cluster'].value_counts() #number of responses per cluster (clusters from 0 to 4)\n",
    "\n",
    "# Interesting that these scores are so evenly distributed"
   ]
  },
  {
   "cell_type": "code",
   "execution_count": 31,
   "metadata": {
    "collapsed": false
   },
   "outputs": [
    {
     "name": "stdout",
     "output_type": "stream",
     "text": [
      "Top terms per cluster:\n",
      "\n",
      "Cluster 0 words: b'flap', b'box', b'group', b'reflect', b'said', b'heat',\n",
      "\n",
      "Cluster 1 words: b'heat', b'box', b'reflect', b'inside', b'oven', b'paper',\n",
      "\n",
      "Cluster 2 words: b'tin', b'tin', b'foil', b'box', b'group', b'reflect',\n",
      "\n",
      "Cluster 3 words: b'plastic', b'plastic', b'wrap', b'because', b'heat', b'change',\n",
      "\n",
      "Cluster 4 words: b'said', b'group', b'because', b'change', b'box', b'heat',\n",
      "\n",
      "Cluster 5 words: b'black', b'paper', b'black', b'heat', b'inside', b'box',\n",
      "\n",
      "Cluster 6 words: b'oven', b'solar', b'solar', b'heat', b'reflect', b'box',\n",
      "\n"
     ]
    }
   ],
   "source": [
    "from __future__ import print_function\n",
    "\n",
    "print(\"Top terms per cluster:\")\n",
    "print()\n",
    "#sort cluster centers by proximity to centroid\n",
    "order_centroids = km.cluster_centers_.argsort()[:, ::-1] \n",
    "\n",
    "for i in range(num_clusters):\n",
    "    print(\"Cluster %d words:\" % i, end='')\n",
    "    \n",
    "    for ind in order_centroids[i, :6]: #replace 6 with n words per cluster\n",
    "        print(' %s' % vocab_frame.ix[terms[ind].split(' ')].values.tolist()[0][0].encode('utf-8', 'ignore'), end=',')\n",
    "    print() #add whitespace\n",
    "    print() #add whitespace\n",
    "\n",
    "# These words seem mostly the same, not surprising because the students use the same types of words no matter what    \n"
   ]
  },
  {
   "cell_type": "code",
   "execution_count": 32,
   "metadata": {
    "collapsed": false
   },
   "outputs": [],
   "source": [
    "import os  # for os.path.basename\n",
    "\n",
    "import matplotlib.pyplot as plt\n",
    "import matplotlib as mpl\n",
    "\n",
    "from sklearn.manifold import MDS\n",
    "\n",
    "MDS()\n",
    "\n",
    "# convert two components as we're plotting points in a two-dimensional plane\n",
    "# \"precomputed\" because we provide a distance matrix\n",
    "# we will also specify `random_state` so the plot is reproducible.\n",
    "mds = MDS(n_components=2, dissimilarity=\"precomputed\", random_state=1)\n",
    "\n",
    "pos = mds.fit_transform(dist)  # shape (n_components, n_samples)\n",
    "\n",
    "xs, ys = pos[:, 0], pos[:, 1]\n"
   ]
  },
  {
   "cell_type": "code",
   "execution_count": 35,
   "metadata": {
    "collapsed": false
   },
   "outputs": [],
   "source": [
    "#set up colors per clusters using a dict\n",
    "cluster_colors = {0: '#1b9e77', 1: '#d95f02', 2: '#7570b3', 3: '#e7298a', 4: '#66a61e', 5: '#ffd700',6: '#b22222',7:\"#0000ff\",8:\"#778899\"}\n",
    "\n",
    "#set up cluster names using a dict\n",
    "cluster_names = {0: '0', \n",
    "                 1: '1',\n",
    "                 2: '2',\n",
    "                 3: '3',\n",
    "                 4: '4',\n",
    "                 5: '5',\n",
    "                 6: '6',\n",
    "                 7: '7'}"
   ]
  },
  {
   "cell_type": "code",
   "execution_count": 36,
   "metadata": {
    "collapsed": false
   },
   "outputs": [
    {
     "data": {
      "image/png": "[encoded data removed]",
      "text/plain": [
       "<matplotlib.figure.Figure at 0x11406e668>"
      ]
     },
     "metadata": {},
     "output_type": "display_data"
    }
   ],
   "source": [
    "#some ipython magic to show the matplotlib plots inline\n",
    "%matplotlib inline \n",
    "\n",
    "#create data frame that has the result of the MDS plus the cluster numbers and titles\n",
    "df = pd.DataFrame(dict(x=xs, y=ys, label=clusters)) \n",
    "\n",
    "#group by cluster\n",
    "groups = df.groupby('label')\n",
    "\n",
    "\n",
    "# set up plot\n",
    "fig, ax = plt.subplots(figsize=(17, 9)) # set size\n",
    "ax.margins(0.05) # Optional, just adds 5% padding to the autoscaling\n",
    "\n",
    "#iterate through groups to layer the plot\n",
    "#note that I use the cluster_name and cluster_color dicts with the 'name' lookup to return the appropriate color/label\n",
    "for name, group in groups:\n",
    "    ax.plot(group.x, group.y, marker='o', linestyle='', ms=12, \n",
    "            label=cluster_names[name], color=cluster_colors[name], \n",
    "            mec='none')\n",
    "    ax.set_aspect('auto')\n",
    "    ax.tick_params(\\\n",
    "        axis= 'x',          # changes apply to the x-axis\n",
    "        which='both',      # both major and minor ticks are affected\n",
    "        bottom='off',      # ticks along the bottom edge are off\n",
    "        top='off',         # ticks along the top edge are off\n",
    "        labelbottom='off')\n",
    "    ax.tick_params(\\\n",
    "        axis= 'y',         # changes apply to the y-axis\n",
    "        which='both',      # both major and minor ticks are affected\n",
    "        left='off',      # ticks along the bottom edge are off\n",
    "        top='off',         # ticks along the top edge are off\n",
    "        labelleft='off')\n",
    "    \n",
    "ax.legend(numpoints=1)  #show legend with only 1 point\n",
    "\n",
    "\n",
    "    \n",
    "    \n",
    "plt.show() #show the plot\n",
    "\n",
    "#uncomment the below to save the plot if need be\n",
    "#plt.savefig('clusters_small_noaxes.png', dpi=200)"
   ]
  },
  {
   "cell_type": "code",
   "execution_count": 38,
   "metadata": {
    "collapsed": false
   },
   "outputs": [
    {
     "name": "stdout",
     "output_type": "stream",
     "text": [
      "0.2024196885\n"
     ]
    }
   ],
   "source": [
    "# Look for best number of clusters using silhouette score\n",
    "from sklearn.metrics import silhouette_samples, silhouette_score\n",
    "\n",
    "silhouette_avg = silhouette_score(dist, clusters)\n",
    "print(silhouette_avg)\n",
    "print(\"silhouette 7: 0.2024196885')"
   ]
  },
  {
   "cell_type": "markdown",
   "metadata": {},
   "source": [
    "### Compare K Means clustering with human generated scores ###"
   ]
  },
  {
   "cell_type": "code",
   "execution_count": 39,
   "metadata": {
    "collapsed": false
   },
   "outputs": [
    {
     "data": {
      "text/plain": [
       "4    212\n",
       "2    196\n",
       "3    165\n",
       "5    131\n",
       "7     98\n",
       "6     97\n",
       "8     79\n",
       "Name: Score, dtype: int64"
      ]
     },
     "execution_count": 39,
     "metadata": {},
     "output_type": "execute_result"
    }
   ],
   "source": [
    "# Since each response in this list also has a score from 1-5, we can compare the clustering with the assigned score\n",
    "clusters2 = c['Score'].tolist()\n",
    "both = { 'sent': text, 'cluster': clusters2}\n",
    "frame = pd.DataFrame(both, index = [clusters2] , columns = ['cluster'])\n",
    "c['Score'].value_counts() #number of responses per cluster (clusters from 1 to 5)\n",
    "# Not very much in 3/5 of these categories"
   ]
  },
  {
   "cell_type": "code",
   "execution_count": 42,
   "metadata": {
    "collapsed": false
   },
   "outputs": [],
   "source": [
    "new_list = c['Score']\n",
    "\n",
    "#set up cluster names using a dict\n",
    "cluster_names2 = {2: '2', # Scores from 1-7\n",
    "                  3: '3', \n",
    "                  4: '4', \n",
    "                  5: '5', \n",
    "                  6: '6',\n",
    "                  7: '7',\n",
    "                  8: '8'}"
   ]
  },
  {
   "cell_type": "code",
   "execution_count": 43,
   "metadata": {
    "collapsed": false
   },
   "outputs": [
    {
     "data": {
      "image/png": "[encoded data removed]",
      "text/plain": [
       "<matplotlib.figure.Figure at 0x1138a26a0>"
      ]
     },
     "metadata": {},
     "output_type": "display_data"
    }
   ],
   "source": [
    "#some ipython magic to show the matplotlib plots inline\n",
    "%matplotlib inline \n",
    "\n",
    "#create data frame that has the result of the MDS plus the cluster numbers and titles\n",
    "df = pd.DataFrame(dict(x=xs, y=ys, label=clusters2)) \n",
    "\n",
    "#group by cluster\n",
    "groups = df.groupby('label')\n",
    "\n",
    "\n",
    "# set up plot\n",
    "fig, ax = plt.subplots(figsize=(17, 9)) # set size\n",
    "ax.margins(0.05) # Optional, just adds 5% padding to the autoscaling\n",
    "\n",
    "#iterate through groups to layer the plot\n",
    "#note that I use the cluster_name and cluster_color dicts with the 'name' lookup to return the appropriate color/label\n",
    "for name, group in groups:\n",
    "    ax.plot(group.x, group.y, marker='o', linestyle='', ms=12, \n",
    "            label=cluster_names2[name], color=cluster_colors[name], \n",
    "            mec='none')\n",
    "    ax.set_aspect('auto')\n",
    "    ax.tick_params(\\\n",
    "        axis= 'x',          # changes apply to the x-axis\n",
    "        which='both',      # both major and minor ticks are affected\n",
    "        bottom='off',      # ticks along the bottom edge are off\n",
    "        top='off',         # ticks along the top edge are off\n",
    "        labelbottom='off')\n",
    "    ax.tick_params(\\\n",
    "        axis= 'y',         # changes apply to the y-axis\n",
    "        which='both',      # both major and minor ticks are affected\n",
    "        left='off',      # ticks along the bottom edge are off\n",
    "        top='off',         # ticks along the top edge are off\n",
    "        labelleft='off')\n",
    "    \n",
    "ax.legend(numpoints=1)  #show legend with only 1 point\n",
    "\n",
    "    \n",
    "plt.show() #show the plot\n",
    "\n",
    "#plt.savefig('clusters_small_noaxes.png', dpi=200)"
   ]
  },
  {
   "cell_type": "markdown",
   "metadata": {},
   "source": [
    "### How Many Clusters? ###\n",
    "\n",
    "The silhouette score is a measure of how similar an object is to its own cluster compared to other clusters. Higher silhouette scores generally show more distinct differences between clusters. Silhouette scores for the range from 2-9 clusters that I tried were all quite low. While the human scores fall into 5 groups, the silhouette score shows that there might be more differences with 6-8 clusters. After looking at diagrams of the clusters for higher cluster numbers, it seems that these cause a lot of overlap between clusters. \n",
    "\n",
    "Overall clustering seems pretty difficult to do on the entire corpus of this data. The key words generated from each cluster are basically the same for every cluster, but with different frequencies. This is probably because even if students are using words incorrectly, they still often use the correct vocabulary. One way to create more interesting clusters might be to break down this data further by something like human-generated score and then find clusters that might show something different.\n",
    "\n",
    "### Comparing Clusters to Human Generated Scores ###\n",
    "\n",
    "It seems that some of the groups from human scores were somewhat intact in the k means clustering. The \"2\" scores heavily outweigh all of the other scores (~80% of the data), so it's not surprising that they seem to spread in and around the other clusters. However, the other groupings fall at least mostly in the same regions."
   ]
  },
  {
   "cell_type": "code",
   "execution_count": null,
   "metadata": {
    "collapsed": true
   },
   "outputs": [],
   "source": []
  }
 ],
 "metadata": {
  "kernelspec": {
   "display_name": "Python 3",
   "language": "python",
   "name": "python3"
  },
  "language_info": {
   "codemirror_mode": {
    "name": "ipython",
    "version": 3
   },
   "file_extension": ".py",
   "mimetype": "text/x-python",
   "name": "python",
   "nbconvert_exporter": "python",
   "pygments_lexer": "ipython3",
   "version": "3.5.2"
  }
 },
 "nbformat": 4,
 "nbformat_minor": 0
}
